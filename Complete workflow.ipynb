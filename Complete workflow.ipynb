{
 "cells": [
  {
   "cell_type": "markdown",
   "metadata": {},
   "source": [
    "Our workflow will be as the following:\n",
    "- Preprocessing:\n",
    "    1. Read image.\n",
    "    2. Grayscale image\n",
    "    3. Resize images into (28*28)\n",
    "    4. Extract HOG descriptors.\n",
    "    5. Flatten Image.\n",
    "    6. Save image into python list.\n",
    "- Data Modeling:\n",
    "    1. Create labels.\n",
    "    2. Separate data into training and testing.\n",
    "    3. Train model.\n",
    "    4. Test model. \n",
    "    \n",
    "    \n",
    "    Incase you want to look PRO\n",
    "    3. Bench mark 3 algorithms.\n",
    "    4. Select best model.\n",
    "    \n",
    "# Now let perform each step in our hypothetical problem"
   ]
  },
  {
   "cell_type": "code",
   "execution_count": 103,
   "metadata": {},
   "outputs": [],
   "source": [
    "# Import statements\n",
    "\n",
    "from skimage.io import imread_collection, imread\n",
    "from skimage.color import rgb2gray\n",
    "from skimage.transform import rescale, resize, downscale_local_mean\n",
    "from skimage.feature import hog\n",
    "from matplotlib import pyplot as plt\n",
    "from skimage import exposure\n",
    "import numpy as np\n",
    "from sklearn.model_selection import train_test_split\n",
    "from sklearn.svm import LinearSVC\n",
    "from sklearn.metrics import accuracy_score\n",
    "from sklearn.metrics import classification_report\n"
   ]
  },
  {
   "cell_type": "markdown",
   "metadata": {},
   "source": [
    "### Preprocessing"
   ]
  },
  {
   "cell_type": "code",
   "execution_count": 39,
   "metadata": {},
   "outputs": [],
   "source": [
    "#For ballons (class 1)\n",
    "col_dir = 'ballons/*.jpg'\n",
    "\n",
    "#creating a collection with the available images in our folder\n",
    "col = imread_collection(col_dir)\n",
    "# col object has all our images and we can access them by index example: col[0]\n",
    "ballon_set = list()\n",
    "#Do all the setps in each image in col\n",
    "for image in col:\n",
    "    img = rgb2gray(image) # convert to grayscale\n",
    "    img = resize(img, (28,28)) # resize \n",
    "    fd, hog_image = hog(img, orientations=8, pixels_per_cell=(16, 16),\n",
    "                    cells_per_block=(1, 1), visualize=True, multichannel=False) # HOG\n",
    "    hog_image_rescaled = exposure.rescale_intensity(hog_image, in_range=(0, 100))\n",
    "    flat_image = hog_image_rescaled.flatten() # Flatten image\n",
    "    ballon_set.append(flat_image)"
   ]
  },
  {
   "cell_type": "code",
   "execution_count": 40,
   "metadata": {},
   "outputs": [],
   "source": [
    "#For notballons (class 2)\n",
    "col_dir = 'notballons/*.png'\n",
    "\n",
    "#creating a collection with the available images in our folder\n",
    "col = imread_collection(col_dir)\n",
    "# col object has all our images and we can access them by index example: col[0]\n",
    "notballon_set = list()\n",
    "#Do all the setps in each image in col\n",
    "for image in col:\n",
    "    img = rgb2gray(image) # convert to grayscale\n",
    "    img = resize(img, (28,28)) # resize \n",
    "    fd, hog_image = hog(img, orientations=8, pixels_per_cell=(16, 16),\n",
    "                    cells_per_block=(1, 1), visualize=True, multichannel=False) # HOG\n",
    "    hog_image_rescaled = exposure.rescale_intensity(hog_image, in_range=(0, 100))\n",
    "    flat_image = hog_image_rescaled.flatten() # Flatten image\n",
    "    notballon_set.append(flat_image)"
   ]
  },
  {
   "cell_type": "markdown",
   "metadata": {},
   "source": [
    "# Data modeling"
   ]
  },
  {
   "cell_type": "markdown",
   "metadata": {},
   "source": [
    "Now we have two python lists that has our images flattened. We need to create a label for each class so we can know which one is a ballon and which is not. We will label them as the following:\n",
    "1. class ballon = 0\n",
    "2. class not-ballon = 1\n",
    "\n",
    "## Creating labels"
   ]
  },
  {
   "cell_type": "code",
   "execution_count": 48,
   "metadata": {},
   "outputs": [],
   "source": [
    "# we create two victors one for each class, the size of the victor = number of images\n",
    "ballon = np.zeros(10) # because I have 10 ballon images\n",
    "notballon = np.ones(10)"
   ]
  },
  {
   "cell_type": "code",
   "execution_count": 57,
   "metadata": {},
   "outputs": [
    {
     "data": {
      "text/plain": [
       "array([0., 0., 0., 0., 0., 0., 0., 0., 0., 0.])"
      ]
     },
     "execution_count": 57,
     "metadata": {},
     "output_type": "execute_result"
    }
   ],
   "source": [
    "# this is how it looks, but I need to transpose it\n",
    "ballon"
   ]
  },
  {
   "cell_type": "code",
   "execution_count": 68,
   "metadata": {},
   "outputs": [
    {
     "data": {
      "text/plain": [
       "array([0., 0., 0., 0., 0., 0., 0., 0., 0., 0., 1., 1., 1., 1., 1., 1., 1.,\n",
       "       1., 1., 1.])"
      ]
     },
     "execution_count": 68,
     "metadata": {},
     "output_type": "execute_result"
    }
   ],
   "source": [
    "# let's make them as one long victor\n",
    "label = np.hstack((ballon, notballon))\n",
    "label"
   ]
  },
  {
   "cell_type": "code",
   "execution_count": 70,
   "metadata": {},
   "outputs": [
    {
     "data": {
      "text/plain": [
       "array([[0.],\n",
       "       [0.],\n",
       "       [0.],\n",
       "       [0.],\n",
       "       [0.],\n",
       "       [0.],\n",
       "       [0.],\n",
       "       [0.],\n",
       "       [0.],\n",
       "       [0.],\n",
       "       [1.],\n",
       "       [1.],\n",
       "       [1.],\n",
       "       [1.],\n",
       "       [1.],\n",
       "       [1.],\n",
       "       [1.],\n",
       "       [1.],\n",
       "       [1.],\n",
       "       [1.]])"
      ]
     },
     "execution_count": 70,
     "metadata": {},
     "output_type": "execute_result"
    }
   ],
   "source": [
    "# let's make this into a vertical victor\n",
    "label = label.reshape((-1, 1))\n",
    "label"
   ]
  },
  {
   "cell_type": "code",
   "execution_count": 71,
   "metadata": {},
   "outputs": [],
   "source": [
    "# now lets get our images together as well\n",
    "\n",
    "images_set = np.vstack((ballon_set, notballon_set))"
   ]
  },
  {
   "cell_type": "code",
   "execution_count": 73,
   "metadata": {},
   "outputs": [
    {
     "name": "stdout",
     "output_type": "stream",
     "text": [
      "the number of images =  20\n",
      "the number of labels =  20\n"
     ]
    }
   ],
   "source": [
    "# hypothesis testing\n",
    "# we expect 20 images, 20 labels\n",
    "\n",
    "print('the number of images = ', len(images_set))\n",
    "print('the number of labels = ', len(label))"
   ]
  },
  {
   "cell_type": "markdown",
   "metadata": {},
   "source": [
    "## Creating train and test sets"
   ]
  },
  {
   "cell_type": "code",
   "execution_count": 86,
   "metadata": {},
   "outputs": [],
   "source": [
    "\n",
    "xtrain, xtest, ytrain, ytest = train_test_split(images_set, label, test_size=0.3, random_state=42, shuffle =True)\n"
   ]
  },
  {
   "cell_type": "code",
   "execution_count": 94,
   "metadata": {},
   "outputs": [],
   "source": [
    "ytrain = ytrain.flatten()\n",
    "ytest = ytest.flatten()"
   ]
  },
  {
   "cell_type": "code",
   "execution_count": null,
   "metadata": {},
   "outputs": [],
   "source": []
  },
  {
   "cell_type": "markdown",
   "metadata": {},
   "source": [
    "# Train a model\n",
    "\n",
    "We will use linear SVM for this dummy project\n",
    "\n",
    "Read about SVM classifier: https://scikit-learn.org/stable/modules/generated/sklearn.svm.LinearSVC.html"
   ]
  },
  {
   "cell_type": "code",
   "execution_count": 95,
   "metadata": {},
   "outputs": [
    {
     "data": {
      "text/plain": [
       "LinearSVC(C=1.0, class_weight=None, dual=True, fit_intercept=True,\n",
       "     intercept_scaling=1, loss='squared_hinge', max_iter=1000,\n",
       "     multi_class='ovr', penalty='l2', random_state=0, tol=1e-05, verbose=0)"
      ]
     },
     "execution_count": 95,
     "metadata": {},
     "output_type": "execute_result"
    }
   ],
   "source": [
    "# initialize the classifier (Support Victor Classifier)\n",
    "clf = LinearSVC(random_state=0, tol=1e-5)\n",
    "\n",
    "# Training\n",
    "clf.fit(xtrain, ytrain)"
   ]
  },
  {
   "cell_type": "code",
   "execution_count": 98,
   "metadata": {},
   "outputs": [],
   "source": [
    "ypredtrain = clf.predict(xtrain)\n",
    "ypredtest = clf.predict(xtest)"
   ]
  },
  {
   "cell_type": "code",
   "execution_count": 100,
   "metadata": {},
   "outputs": [],
   "source": [
    "training_accuracy = accuracy_score(ytrain, ypredtrain)\n",
    "testing_accuracy = accuracy_score(ytest, ypredtest)"
   ]
  },
  {
   "cell_type": "code",
   "execution_count": 102,
   "metadata": {},
   "outputs": [
    {
     "name": "stdout",
     "output_type": "stream",
     "text": [
      "Training accuracy = 57.14%\n",
      "Testing accuracy = 33.33%\n"
     ]
    }
   ],
   "source": [
    "print('Training accuracy = {0:.2f}%'.format(training_accuracy*100))\n",
    "print('Testing accuracy = {0:.2f}%'.format(testing_accuracy*100))"
   ]
  },
  {
   "cell_type": "markdown",
   "metadata": {},
   "source": [
    "# Ok I know it sucks but these images are not even real. I hope now you see the workflow"
   ]
  },
  {
   "cell_type": "code",
   "execution_count": 109,
   "metadata": {},
   "outputs": [
    {
     "name": "stdout",
     "output_type": "stream",
     "text": [
      "Training classification Report\n",
      "\n",
      "               precision    recall  f1-score   support\n",
      "\n",
      "         0.0       0.00      0.00      0.00         6\n",
      "         1.0       0.57      1.00      0.73         8\n",
      "\n",
      "   micro avg       0.57      0.57      0.57        14\n",
      "   macro avg       0.29      0.50      0.36        14\n",
      "weighted avg       0.33      0.57      0.42        14\n",
      "\n",
      "\n",
      "\n",
      "Testing classification Report\n",
      "\n",
      "               precision    recall  f1-score   support\n",
      "\n",
      "         0.0       0.00      0.00      0.00         4\n",
      "         1.0       0.33      1.00      0.50         2\n",
      "\n",
      "   micro avg       0.33      0.33      0.33         6\n",
      "   macro avg       0.17      0.50      0.25         6\n",
      "weighted avg       0.11      0.33      0.17         6\n",
      "\n"
     ]
    }
   ],
   "source": [
    "\n",
    "training_report = classification_report(ytrain, ypredtrain)\n",
    "testing_report = classification_report(ytest, ypredtest)\n",
    "\n",
    "print(\"Training classification Report\\n\\n\", training_report)\n",
    "print(\"\\n\\nTesting classification Report\\n\\n\", testing_report)"
   ]
  },
  {
   "cell_type": "code",
   "execution_count": null,
   "metadata": {},
   "outputs": [],
   "source": []
  }
 ],
 "metadata": {
  "kernelspec": {
   "display_name": "Python 3",
   "language": "python",
   "name": "python3"
  },
  "language_info": {
   "codemirror_mode": {
    "name": "ipython",
    "version": 3
   },
   "file_extension": ".py",
   "mimetype": "text/x-python",
   "name": "python",
   "nbconvert_exporter": "python",
   "pygments_lexer": "ipython3",
   "version": "3.6.8"
  }
 },
 "nbformat": 4,
 "nbformat_minor": 2
}
